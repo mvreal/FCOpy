{
 "cells": [
  {
   "cell_type": "markdown",
   "metadata": {},
   "source": [
    "## Teste do Programa para Flexo-compressão Oblíqua"
   ]
  },
  {
   "cell_type": "code",
   "execution_count": 3,
   "metadata": {
    "scrolled": true
   },
   "outputs": [],
   "source": [
    "import numpy as np\n",
    "import sympy as sp"
   ]
  },
  {
   "cell_type": "markdown",
   "metadata": {},
   "source": [
    "## 1.Geometria"
   ]
  },
  {
   "cell_type": "code",
   "execution_count": 4,
   "metadata": {
    "scrolled": true
   },
   "outputs": [],
   "source": [
    "bw=20."
   ]
  },
  {
   "cell_type": "code",
   "execution_count": 5,
   "metadata": {
    "scrolled": true
   },
   "outputs": [],
   "source": [
    "h=50."
   ]
  },
  {
   "cell_type": "code",
   "execution_count": 6,
   "metadata": {
    "scrolled": true
   },
   "outputs": [],
   "source": [
    "d=47."
   ]
  },
  {
   "cell_type": "code",
   "execution_count": 7,
   "metadata": {
    "scrolled": true
   },
   "outputs": [],
   "source": [
    "dl=3."
   ]
  },
  {
   "cell_type": "code",
   "execution_count": 8,
   "metadata": {
    "scrolled": true
   },
   "outputs": [],
   "source": [
    "Ac = bw * h"
   ]
  },
  {
   "cell_type": "code",
   "execution_count": 9,
   "metadata": {},
   "outputs": [],
   "source": [
    "Astotal = 20.00"
   ]
  },
  {
   "cell_type": "code",
   "execution_count": 10,
   "metadata": {
    "scrolled": true
   },
   "outputs": [],
   "source": [
    "Ix = bw  * h ** 3 / 12"
   ]
  },
  {
   "cell_type": "code",
   "execution_count": 11,
   "metadata": {
    "scrolled": true
   },
   "outputs": [],
   "source": [
    "Iy = h*bw ** 3/12"
   ]
  },
  {
   "cell_type": "markdown",
   "metadata": {},
   "source": [
    "## 2. Materiais"
   ]
  },
  {
   "cell_type": "code",
   "execution_count": 12,
   "metadata": {
    "scrolled": true
   },
   "outputs": [],
   "source": [
    "fck = 2.0 "
   ]
  },
  {
   "cell_type": "code",
   "execution_count": 13,
   "metadata": {
    "scrolled": true
   },
   "outputs": [],
   "source": [
    "fyk=50.00"
   ]
  },
  {
   "cell_type": "code",
   "execution_count": 14,
   "metadata": {
    "scrolled": true
   },
   "outputs": [],
   "source": [
    "fcd=fck/1.4"
   ]
  },
  {
   "cell_type": "code",
   "execution_count": 15,
   "metadata": {},
   "outputs": [
    {
     "data": {
      "text/plain": [
       "1.4285714285714286"
      ]
     },
     "execution_count": 15,
     "metadata": {},
     "output_type": "execute_result"
    }
   ],
   "source": [
    "fcd"
   ]
  },
  {
   "cell_type": "code",
   "execution_count": 16,
   "metadata": {
    "scrolled": true
   },
   "outputs": [],
   "source": [
    "sigmacd=0.85*fcd"
   ]
  },
  {
   "cell_type": "code",
   "execution_count": 17,
   "metadata": {},
   "outputs": [
    {
     "data": {
      "text/plain": [
       "1.2142857142857142"
      ]
     },
     "execution_count": 17,
     "metadata": {},
     "output_type": "execute_result"
    }
   ],
   "source": [
    "sigmacd"
   ]
  },
  {
   "cell_type": "code",
   "execution_count": 18,
   "metadata": {
    "scrolled": true
   },
   "outputs": [],
   "source": [
    "fyd=fyk/1.15"
   ]
  },
  {
   "cell_type": "code",
   "execution_count": 19,
   "metadata": {
    "scrolled": true
   },
   "outputs": [],
   "source": [
    "fi=2.50"
   ]
  },
  {
   "cell_type": "code",
   "execution_count": 20,
   "metadata": {
    "scrolled": true
   },
   "outputs": [],
   "source": [
    "Es=21000.00"
   ]
  },
  {
   "cell_type": "code",
   "execution_count": 21,
   "metadata": {},
   "outputs": [],
   "source": [
    "epsyd = fyd/Es\n"
   ]
  },
  {
   "cell_type": "markdown",
   "metadata": {},
   "source": [
    "## 3. Carregamentos"
   ]
  },
  {
   "cell_type": "code",
   "execution_count": 22,
   "metadata": {
    "scrolled": true
   },
   "outputs": [],
   "source": [
    "NAd = -1000.00"
   ]
  },
  {
   "cell_type": "code",
   "execution_count": 23,
   "metadata": {
    "scrolled": true
   },
   "outputs": [],
   "source": [
    "MAxd = -19110.00"
   ]
  },
  {
   "cell_type": "code",
   "execution_count": 24,
   "metadata": {
    "scrolled": true
   },
   "outputs": [],
   "source": [
    "MAyd = 0.00"
   ]
  },
  {
   "cell_type": "markdown",
   "metadata": {},
   "source": [
    "## 4. Cálculo dos esforços resistentes"
   ]
  },
  {
   "cell_type": "code",
   "execution_count": 25,
   "metadata": {
    "scrolled": true
   },
   "outputs": [],
   "source": [
    "epss = 3.1215\n",
    "epsi = 0.5046\n",
    "alpha = 0.00"
   ]
  },
  {
   "cell_type": "code",
   "execution_count": 26,
   "metadata": {
    "scrolled": true
   },
   "outputs": [
    {
     "name": "stdout",
     "output_type": "stream",
     "text": [
      "x = 59.641178493637504\n",
      "ki = 0.05233800000000001\n"
     ]
    }
   ],
   "source": [
    "#x = epss/(epss+epsi)*d\n",
    "x = epss/(epss-epsi)*h\n",
    "ki = epss/x\n",
    "print('x =',x)\n",
    "print('ki =',ki)"
   ]
  },
  {
   "cell_type": "code",
   "execution_count": 27,
   "metadata": {
    "scrolled": true
   },
   "outputs": [
    {
     "name": "stdout",
     "output_type": "stream",
     "text": [
      "b = 21.428025526386183\n"
     ]
    }
   ],
   "source": [
    "b = (epss - 2.0)/epss*x\n",
    "print('b =',b)"
   ]
  },
  {
   "cell_type": "code",
   "execution_count": 28,
   "metadata": {
    "scrolled": true
   },
   "outputs": [
    {
     "name": "stdout",
     "output_type": "stream",
     "text": [
      "a =  28.571974473613817\n"
     ]
    }
   ],
   "source": [
    "#a = x - b\n",
    "a = h - b\n",
    "print('a = ',a)"
   ]
  },
  {
   "cell_type": "code",
   "execution_count": 29,
   "metadata": {},
   "outputs": [],
   "source": [
    "#y1 = 5./16*2*a\n",
    "#y2 = x - b/2.\n",
    "#print('y1 =',y1)\n",
    "#print('y2 =',y2)"
   ]
  },
  {
   "cell_type": "code",
   "execution_count": 30,
   "metadata": {
    "scrolled": true
   },
   "outputs": [
    {
     "name": "stdout",
     "output_type": "stream",
     "text": [
      "ess = 2.9644860000000004\n",
      "esi = 0.6616139999999998\n"
     ]
    }
   ],
   "source": [
    "\n",
    "ess = ki*(x-dl)\n",
    "esi = ki*(x-(h-dl))\n",
    "print('ess =',ess)\n",
    "print('esi =',esi)"
   ]
  },
  {
   "cell_type": "code",
   "execution_count": 31,
   "metadata": {
    "scrolled": true
   },
   "outputs": [
    {
     "name": "stdout",
     "output_type": "stream",
     "text": [
      "sss = 43.47826086956522\n",
      "ssi = 13.893893999999996\n"
     ]
    }
   ],
   "source": [
    "sss = fyd\n",
    "ssi = Es*esi/1000\n",
    "#ssi = fyd\n",
    "print('sss =',sss)\n",
    "print('ssi =',ssi)"
   ]
  },
  {
   "cell_type": "code",
   "execution_count": 32,
   "metadata": {
    "scrolled": true
   },
   "outputs": [
    {
     "name": "stdout",
     "output_type": "stream",
     "text": [
      "Fss = 434.7826086956522\n",
      "Fsi = 138.93893999999995\n"
     ]
    }
   ],
   "source": [
    "Fss = sss*Astotal/2\n",
    "Fsi = ssi*Astotal/2\n",
    "print('Fss =',Fss)\n",
    "print('Fsi =',Fsi)"
   ]
  },
  {
   "cell_type": "code",
   "execution_count": 33,
   "metadata": {
    "scrolled": true
   },
   "outputs": [
    {
     "name": "stdout",
     "output_type": "stream",
     "text": [
      "444.180837031237\n",
      "Rcc1 = 564.583032893136\n",
      "Rcc2 = 520.3949056408072\n"
     ]
    }
   ],
   "source": [
    "\n",
    "def f1(y):\n",
    "    f1 = y - ki/4*y**2\n",
    "    return f1\n",
    "\n",
    "\n",
    "y = sp.Symbol(\"y\") \n",
    "int1 = sp.integrate(f1(y), (y, x-h, x-b))\n",
    "print(int1)\n",
    "Rcc1 = sigmacd*bw*ki*int1\n",
    "Rcc2 = sigmacd*b*bw\n",
    "print('Rcc1 =',Rcc1)\n",
    "print('Rcc2 =',Rcc2)"
   ]
  },
  {
   "cell_type": "code",
   "execution_count": 37,
   "metadata": {
    "scrolled": true
   },
   "outputs": [
    {
     "name": "stdout",
     "output_type": "stream",
     "text": [
      "NRd = 1658.69948722960\n"
     ]
    }
   ],
   "source": [
    "NRd = Rcc1 + Rcc2 + Fss + Fsi\n",
    "print('NRd =',NRd)"
   ]
  },
  {
   "cell_type": "code",
   "execution_count": 42,
   "metadata": {
    "scrolled": true
   },
   "outputs": [
    {
     "name": "stdout",
     "output_type": "stream",
     "text": [
      "11354.6579468130\n",
      "yg = 36.7693782429425\n",
      "2309.04977678944\n",
      "11354.6579468130\n",
      "MRxd = -8817.61048809379\n"
     ]
    }
   ],
   "source": [
    "def f2(y):\n",
    "    f2 = y**2 - ki/4*y**3\n",
    "    return f2\n",
    "\n",
    "\n",
    "y = sp.Symbol(\"y\") \n",
    "int2 = sp.integrate(f2(y), (y, x-h, x-b))\n",
    "print(int2)\n",
    "soma = sigmacd*bw*ki*int2 + sigmacd*bw*b*(x-b/2)\n",
    "yg = soma/(Rcc1+Rcc2)\n",
    "print('yg =',yg)\n",
    "Mcc = (Rcc1+Rcc2)*(yg-(x-h)-h/2)\n",
    "print(Mcc)\n",
    "print(int2)\n",
    "MRxd = -Mcc - Fss*(h/2-dl) + Fsi*(h/2-dl)\n",
    "print('MRxd =',MRxd)"
   ]
  },
  {
   "cell_type": "code",
   "execution_count": null,
   "metadata": {
    "scrolled": true
   },
   "outputs": [
    {
     "name": "stdout",
     "output_type": "stream",
     "text": [
      "MRyd = 0.0\n"
     ]
    }
   ],
   "source": [
    "MRyd = 0.00\n",
    "print('MRyd =',MRyd)"
   ]
  },
  {
   "cell_type": "code",
   "execution_count": 43,
   "metadata": {
    "scrolled": true
   },
   "outputs": [
    {
     "name": "stdout",
     "output_type": "stream",
     "text": [
      "Curvatura = 0.05233800000000001\n",
      "epsilon0 = 1.81305\n",
      "xi = 1.2689612445454788\n"
     ]
    }
   ],
   "source": [
    "chi = epss/x\n",
    "eps0 = chi*(x-h/2)\n",
    "xi = x/d\n",
    "print('Curvatura =',chi)\n",
    "print('epsilon0 =',eps0)\n",
    "print('xi =',xi)\n"
   ]
  },
  {
   "cell_type": "code",
   "execution_count": 45,
   "metadata": {},
   "outputs": [
    {
     "name": "stdout",
     "output_type": "stream",
     "text": [
      "eta01 = -25.0\n",
      "eta12 = 3.5719744736138175\n"
     ]
    }
   ],
   "source": [
    "eta01 = -h/2 \n",
    "eta12 = h/2 - b\n",
    "print('eta01 =',eta01)\n",
    "print('eta12 =',eta12)"
   ]
  }
 ],
 "metadata": {
  "kernelspec": {
   "display_name": "Python 3",
   "language": "python",
   "name": "python3"
  },
  "language_info": {
   "codemirror_mode": {
    "name": "ipython",
    "version": 3
   },
   "file_extension": ".py",
   "mimetype": "text/x-python",
   "name": "python",
   "nbconvert_exporter": "python",
   "pygments_lexer": "ipython3",
   "version": "3.12.0"
  }
 },
 "nbformat": 4,
 "nbformat_minor": 2
}
